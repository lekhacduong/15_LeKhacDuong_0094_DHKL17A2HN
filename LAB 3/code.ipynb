{
 "cells": [
  {
   "cell_type": "markdown",
   "metadata": {},
   "source": [
    "### 3.1\n"
   ]
  },
  {
   "cell_type": "code",
   "execution_count": 38,
   "metadata": {},
   "outputs": [],
   "source": [
    "import pandas as pd"
   ]
  },
  {
   "cell_type": "code",
   "execution_count": 39,
   "metadata": {},
   "outputs": [],
   "source": [
    "# doc file csv\n",
    "stocks1 = pd.read_csv('data//stocks1.csv')\n"
   ]
  },
  {
   "cell_type": "code",
   "execution_count": 40,
   "metadata": {},
   "outputs": [
    {
     "name": "stdout",
     "output_type": "stream",
     "text": [
      "       date symbol     open     high      low    close   volume\n",
      "0  01-03-19   AMZN  1655.13  1674.26  1651.00  1671.73  4974877\n",
      "1  04-03-19   AMZN  1685.00  1709.43  1674.36  1696.17  6167358\n",
      "2  05-03-19   AMZN  1702.95  1707.80  1689.01  1692.43  3681522\n",
      "3  06-03-19   AMZN  1695.97      NaN      NaN  1668.95  3996001\n",
      "4  07-03-19   AMZN  1667.37  1669.75  1620.51  1625.95  4957017\n"
     ]
    }
   ],
   "source": [
    "# doc 5 dong dau\n",
    "print(stocks1.head(5))"
   ]
  },
  {
   "cell_type": "code",
   "execution_count": 41,
   "metadata": {},
   "outputs": [
    {
     "name": "stdout",
     "output_type": "stream",
     "text": [
      "date       object\n",
      "symbol     object\n",
      "open      float64\n",
      "high      float64\n",
      "low       float64\n",
      "close     float64\n",
      "volume      int64\n",
      "dtype: object\n"
     ]
    }
   ],
   "source": [
    "# hien thi kieu dtype cua moi cot\n",
    "print(stocks1.dtypes)"
   ]
  },
  {
   "cell_type": "code",
   "execution_count": 42,
   "metadata": {},
   "outputs": [
    {
     "name": "stdout",
     "output_type": "stream",
     "text": [
      "<class 'pandas.core.frame.DataFrame'>\n",
      "RangeIndex: 15 entries, 0 to 14\n",
      "Data columns (total 7 columns):\n",
      " #   Column  Non-Null Count  Dtype  \n",
      "---  ------  --------------  -----  \n",
      " 0   date    15 non-null     object \n",
      " 1   symbol  15 non-null     object \n",
      " 2   open    15 non-null     float64\n",
      " 3   high    13 non-null     float64\n",
      " 4   low     13 non-null     float64\n",
      " 5   close   15 non-null     float64\n",
      " 6   volume  15 non-null     int64  \n",
      "dtypes: float64(4), int64(1), object(2)\n",
      "memory usage: 972.0+ bytes\n",
      "None\n"
     ]
    }
   ],
   "source": [
    "# hien thong tin tong quan\n",
    "print(stocks1.info())"
   ]
  },
  {
   "cell_type": "markdown",
   "metadata": {},
   "source": [
    "### 3.2\n"
   ]
  },
  {
   "cell_type": "code",
   "execution_count": 43,
   "metadata": {},
   "outputs": [
    {
     "name": "stdout",
     "output_type": "stream",
     "text": [
      "     date  symbol   open   high    low  close  volume\n",
      "0   False   False  False  False  False  False   False\n",
      "1   False   False  False  False  False  False   False\n",
      "2   False   False  False  False  False  False   False\n",
      "3   False   False  False   True   True  False   False\n",
      "4   False   False  False  False  False  False   False\n",
      "5   False   False  False  False  False  False   False\n",
      "6   False   False  False  False  False  False   False\n",
      "7   False   False  False  False  False  False   False\n",
      "8   False   False  False  False  False  False   False\n",
      "9   False   False  False  False  False  False   False\n",
      "10  False   False  False  False  False  False   False\n",
      "11  False   False  False  False  False  False   False\n",
      "12  False   False  False   True   True  False   False\n",
      "13  False   False  False  False  False  False   False\n",
      "14  False   False  False  False  False  False   False\n"
     ]
    }
   ],
   "source": [
    "print(stocks1.isnull())"
   ]
  },
  {
   "cell_type": "code",
   "execution_count": 44,
   "metadata": {},
   "outputs": [
    {
     "name": "stderr",
     "output_type": "stream",
     "text": [
      "C:\\Users\\Hi\\AppData\\Local\\Temp\\ipykernel_20012\\3642346578.py:2: FutureWarning: A value is trying to be set on a copy of a DataFrame or Series through chained assignment using an inplace method.\n",
      "The behavior will change in pandas 3.0. This inplace method will never work because the intermediate object on which we are setting values always behaves as a copy.\n",
      "\n",
      "For example, when doing 'df[col].method(value, inplace=True)', try using 'df.method({col: value}, inplace=True)' or df[col] = df[col].method(value) instead, to perform the operation inplace on the original object.\n",
      "\n",
      "\n",
      "  stocks1['high'].fillna(stocks1['high'].mean(), inplace = True)\n"
     ]
    },
    {
     "data": {
      "text/html": [
       "<div>\n",
       "<style scoped>\n",
       "    .dataframe tbody tr th:only-of-type {\n",
       "        vertical-align: middle;\n",
       "    }\n",
       "\n",
       "    .dataframe tbody tr th {\n",
       "        vertical-align: top;\n",
       "    }\n",
       "\n",
       "    .dataframe thead th {\n",
       "        text-align: right;\n",
       "    }\n",
       "</style>\n",
       "<table border=\"1\" class=\"dataframe\">\n",
       "  <thead>\n",
       "    <tr style=\"text-align: right;\">\n",
       "      <th></th>\n",
       "      <th>date</th>\n",
       "      <th>symbol</th>\n",
       "      <th>open</th>\n",
       "      <th>high</th>\n",
       "      <th>low</th>\n",
       "      <th>close</th>\n",
       "      <th>volume</th>\n",
       "    </tr>\n",
       "  </thead>\n",
       "  <tbody>\n",
       "    <tr>\n",
       "      <th>0</th>\n",
       "      <td>01-03-19</td>\n",
       "      <td>AMZN</td>\n",
       "      <td>1655.13</td>\n",
       "      <td>1674.260000</td>\n",
       "      <td>1651.00</td>\n",
       "      <td>1671.73</td>\n",
       "      <td>4974877</td>\n",
       "    </tr>\n",
       "    <tr>\n",
       "      <th>1</th>\n",
       "      <td>04-03-19</td>\n",
       "      <td>AMZN</td>\n",
       "      <td>1685.00</td>\n",
       "      <td>1709.430000</td>\n",
       "      <td>1674.36</td>\n",
       "      <td>1696.17</td>\n",
       "      <td>6167358</td>\n",
       "    </tr>\n",
       "    <tr>\n",
       "      <th>2</th>\n",
       "      <td>05-03-19</td>\n",
       "      <td>AMZN</td>\n",
       "      <td>1702.95</td>\n",
       "      <td>1707.800000</td>\n",
       "      <td>1689.01</td>\n",
       "      <td>1692.43</td>\n",
       "      <td>3681522</td>\n",
       "    </tr>\n",
       "    <tr>\n",
       "      <th>3</th>\n",
       "      <td>06-03-19</td>\n",
       "      <td>AMZN</td>\n",
       "      <td>1695.97</td>\n",
       "      <td>943.511538</td>\n",
       "      <td>NaN</td>\n",
       "      <td>1668.95</td>\n",
       "      <td>3996001</td>\n",
       "    </tr>\n",
       "    <tr>\n",
       "      <th>4</th>\n",
       "      <td>07-03-19</td>\n",
       "      <td>AMZN</td>\n",
       "      <td>1667.37</td>\n",
       "      <td>1669.750000</td>\n",
       "      <td>1620.51</td>\n",
       "      <td>1625.95</td>\n",
       "      <td>4957017</td>\n",
       "    </tr>\n",
       "    <tr>\n",
       "      <th>5</th>\n",
       "      <td>01-03-19</td>\n",
       "      <td>AAPL</td>\n",
       "      <td>174.28</td>\n",
       "      <td>175.150000</td>\n",
       "      <td>172.89</td>\n",
       "      <td>174.97</td>\n",
       "      <td>25886167</td>\n",
       "    </tr>\n",
       "    <tr>\n",
       "      <th>6</th>\n",
       "      <td>04-03-19</td>\n",
       "      <td>AAPL</td>\n",
       "      <td>175.69</td>\n",
       "      <td>177.750000</td>\n",
       "      <td>173.97</td>\n",
       "      <td>175.85</td>\n",
       "      <td>27436203</td>\n",
       "    </tr>\n",
       "    <tr>\n",
       "      <th>7</th>\n",
       "      <td>05-03-19</td>\n",
       "      <td>AAPL</td>\n",
       "      <td>175.94</td>\n",
       "      <td>176.000000</td>\n",
       "      <td>174.54</td>\n",
       "      <td>175.53</td>\n",
       "      <td>19737419</td>\n",
       "    </tr>\n",
       "    <tr>\n",
       "      <th>8</th>\n",
       "      <td>06-03-19</td>\n",
       "      <td>AAPL</td>\n",
       "      <td>174.67</td>\n",
       "      <td>175.490000</td>\n",
       "      <td>173.94</td>\n",
       "      <td>174.52</td>\n",
       "      <td>20810384</td>\n",
       "    </tr>\n",
       "    <tr>\n",
       "      <th>9</th>\n",
       "      <td>07-03-19</td>\n",
       "      <td>AAPL</td>\n",
       "      <td>173.87</td>\n",
       "      <td>174.440000</td>\n",
       "      <td>172.02</td>\n",
       "      <td>172.50</td>\n",
       "      <td>24796374</td>\n",
       "    </tr>\n",
       "    <tr>\n",
       "      <th>10</th>\n",
       "      <td>01-03-19</td>\n",
       "      <td>GOOG</td>\n",
       "      <td>1124.90</td>\n",
       "      <td>1142.970000</td>\n",
       "      <td>1124.75</td>\n",
       "      <td>1140.99</td>\n",
       "      <td>1450316</td>\n",
       "    </tr>\n",
       "    <tr>\n",
       "      <th>11</th>\n",
       "      <td>04-03-19</td>\n",
       "      <td>GOOG</td>\n",
       "      <td>1146.99</td>\n",
       "      <td>1158.280000</td>\n",
       "      <td>1130.69</td>\n",
       "      <td>1147.80</td>\n",
       "      <td>1446047</td>\n",
       "    </tr>\n",
       "    <tr>\n",
       "      <th>12</th>\n",
       "      <td>05-03-19</td>\n",
       "      <td>GOOG</td>\n",
       "      <td>1150.06</td>\n",
       "      <td>943.511538</td>\n",
       "      <td>NaN</td>\n",
       "      <td>1162.03</td>\n",
       "      <td>1443174</td>\n",
       "    </tr>\n",
       "    <tr>\n",
       "      <th>13</th>\n",
       "      <td>06-03-19</td>\n",
       "      <td>GOOG</td>\n",
       "      <td>1162.49</td>\n",
       "      <td>1167.570000</td>\n",
       "      <td>1155.49</td>\n",
       "      <td>1157.86</td>\n",
       "      <td>1099289</td>\n",
       "    </tr>\n",
       "    <tr>\n",
       "      <th>14</th>\n",
       "      <td>07-03-19</td>\n",
       "      <td>GOOG</td>\n",
       "      <td>1155.72</td>\n",
       "      <td>1156.760000</td>\n",
       "      <td>1134.91</td>\n",
       "      <td>1143.30</td>\n",
       "      <td>1166559</td>\n",
       "    </tr>\n",
       "  </tbody>\n",
       "</table>\n",
       "</div>"
      ],
      "text/plain": [
       "        date symbol     open         high      low    close    volume\n",
       "0   01-03-19   AMZN  1655.13  1674.260000  1651.00  1671.73   4974877\n",
       "1   04-03-19   AMZN  1685.00  1709.430000  1674.36  1696.17   6167358\n",
       "2   05-03-19   AMZN  1702.95  1707.800000  1689.01  1692.43   3681522\n",
       "3   06-03-19   AMZN  1695.97   943.511538      NaN  1668.95   3996001\n",
       "4   07-03-19   AMZN  1667.37  1669.750000  1620.51  1625.95   4957017\n",
       "5   01-03-19   AAPL   174.28   175.150000   172.89   174.97  25886167\n",
       "6   04-03-19   AAPL   175.69   177.750000   173.97   175.85  27436203\n",
       "7   05-03-19   AAPL   175.94   176.000000   174.54   175.53  19737419\n",
       "8   06-03-19   AAPL   174.67   175.490000   173.94   174.52  20810384\n",
       "9   07-03-19   AAPL   173.87   174.440000   172.02   172.50  24796374\n",
       "10  01-03-19   GOOG  1124.90  1142.970000  1124.75  1140.99   1450316\n",
       "11  04-03-19   GOOG  1146.99  1158.280000  1130.69  1147.80   1446047\n",
       "12  05-03-19   GOOG  1150.06   943.511538      NaN  1162.03   1443174\n",
       "13  06-03-19   GOOG  1162.49  1167.570000  1155.49  1157.86   1099289\n",
       "14  07-03-19   GOOG  1155.72  1156.760000  1134.91  1143.30   1166559"
      ]
     },
     "execution_count": 44,
     "metadata": {},
     "output_type": "execute_result"
    }
   ],
   "source": [
    "# thay the gt null o cot high bang gt trung binh cua cot high\n",
    "stocks1['high'].fillna(stocks1['high'].mean(), inplace = True)\n",
    "stocks1\n"
   ]
  },
  {
   "cell_type": "code",
   "execution_count": 45,
   "metadata": {},
   "outputs": [
    {
     "name": "stderr",
     "output_type": "stream",
     "text": [
      "C:\\Users\\Hi\\AppData\\Local\\Temp\\ipykernel_20012\\433656345.py:2: FutureWarning: A value is trying to be set on a copy of a DataFrame or Series through chained assignment using an inplace method.\n",
      "The behavior will change in pandas 3.0. This inplace method will never work because the intermediate object on which we are setting values always behaves as a copy.\n",
      "\n",
      "For example, when doing 'df[col].method(value, inplace=True)', try using 'df.method({col: value}, inplace=True)' or df[col] = df[col].method(value) instead, to perform the operation inplace on the original object.\n",
      "\n",
      "\n",
      "  stocks1['low'].fillna(stocks1['low'].mean(), inplace=True)\n"
     ]
    }
   ],
   "source": [
    "# thay the du lieu null o cot low bang gt trung binh cot low\n",
    "stocks1['low'].fillna(stocks1['low'].mean(), inplace=True)"
   ]
  },
  {
   "cell_type": "code",
   "execution_count": 46,
   "metadata": {},
   "outputs": [
    {
     "name": "stdout",
     "output_type": "stream",
     "text": [
      "<class 'pandas.core.frame.DataFrame'>\n",
      "RangeIndex: 15 entries, 0 to 14\n",
      "Data columns (total 7 columns):\n",
      " #   Column  Non-Null Count  Dtype  \n",
      "---  ------  --------------  -----  \n",
      " 0   date    15 non-null     object \n",
      " 1   symbol  15 non-null     object \n",
      " 2   open    15 non-null     float64\n",
      " 3   high    15 non-null     float64\n",
      " 4   low     15 non-null     float64\n",
      " 5   close   15 non-null     float64\n",
      " 6   volume  15 non-null     int64  \n",
      "dtypes: float64(4), int64(1), object(2)\n",
      "memory usage: 972.0+ bytes\n",
      "None\n"
     ]
    }
   ],
   "source": [
    "# hien thi tt tong quan xn k con null\n",
    "print(stocks1.info())"
   ]
  },
  {
   "cell_type": "markdown",
   "metadata": {},
   "source": [
    "### 3.3"
   ]
  },
  {
   "cell_type": "code",
   "execution_count": 47,
   "metadata": {},
   "outputs": [
    {
     "data": {
      "text/html": [
       "<div>\n",
       "<style scoped>\n",
       "    .dataframe tbody tr th:only-of-type {\n",
       "        vertical-align: middle;\n",
       "    }\n",
       "\n",
       "    .dataframe tbody tr th {\n",
       "        vertical-align: top;\n",
       "    }\n",
       "\n",
       "    .dataframe thead th {\n",
       "        text-align: right;\n",
       "    }\n",
       "</style>\n",
       "<table border=\"1\" class=\"dataframe\">\n",
       "  <thead>\n",
       "    <tr style=\"text-align: right;\">\n",
       "      <th></th>\n",
       "      <th>date</th>\n",
       "      <th>symbol</th>\n",
       "      <th>open</th>\n",
       "      <th>high</th>\n",
       "      <th>low</th>\n",
       "      <th>close</th>\n",
       "      <th>volume</th>\n",
       "    </tr>\n",
       "  </thead>\n",
       "  <tbody>\n",
       "    <tr>\n",
       "      <th>0</th>\n",
       "      <td>01-03-19</td>\n",
       "      <td>FB</td>\n",
       "      <td>162.60</td>\n",
       "      <td>163.1320</td>\n",
       "      <td>161.69</td>\n",
       "      <td>162.28</td>\n",
       "      <td>11097770</td>\n",
       "    </tr>\n",
       "    <tr>\n",
       "      <th>1</th>\n",
       "      <td>04-03-19</td>\n",
       "      <td>FB</td>\n",
       "      <td>163.90</td>\n",
       "      <td>167.5000</td>\n",
       "      <td>163.83</td>\n",
       "      <td>167.37</td>\n",
       "      <td>18894689</td>\n",
       "    </tr>\n",
       "    <tr>\n",
       "      <th>2</th>\n",
       "      <td>05-03-19</td>\n",
       "      <td>FB</td>\n",
       "      <td>167.37</td>\n",
       "      <td>171.8800</td>\n",
       "      <td>166.55</td>\n",
       "      <td>171.26</td>\n",
       "      <td>28187890</td>\n",
       "    </tr>\n",
       "    <tr>\n",
       "      <th>3</th>\n",
       "      <td>06-03-19</td>\n",
       "      <td>FB</td>\n",
       "      <td>172.90</td>\n",
       "      <td>173.5700</td>\n",
       "      <td>171.27</td>\n",
       "      <td>172.51</td>\n",
       "      <td>21531723</td>\n",
       "    </tr>\n",
       "    <tr>\n",
       "      <th>4</th>\n",
       "      <td>07-03-19</td>\n",
       "      <td>FB</td>\n",
       "      <td>171.50</td>\n",
       "      <td>171.7400</td>\n",
       "      <td>167.61</td>\n",
       "      <td>169.13</td>\n",
       "      <td>18306504</td>\n",
       "    </tr>\n",
       "    <tr>\n",
       "      <th>5</th>\n",
       "      <td>01-03-19</td>\n",
       "      <td>TSLA</td>\n",
       "      <td>306.94</td>\n",
       "      <td>307.1300</td>\n",
       "      <td>291.90</td>\n",
       "      <td>294.79</td>\n",
       "      <td>22911375</td>\n",
       "    </tr>\n",
       "    <tr>\n",
       "      <th>6</th>\n",
       "      <td>04-03-19</td>\n",
       "      <td>TSLA</td>\n",
       "      <td>298.12</td>\n",
       "      <td>299.0000</td>\n",
       "      <td>282.78</td>\n",
       "      <td>285.36</td>\n",
       "      <td>17096818</td>\n",
       "    </tr>\n",
       "    <tr>\n",
       "      <th>7</th>\n",
       "      <td>05-03-19</td>\n",
       "      <td>TSLA</td>\n",
       "      <td>282.00</td>\n",
       "      <td>284.0000</td>\n",
       "      <td>270.10</td>\n",
       "      <td>276.54</td>\n",
       "      <td>18764740</td>\n",
       "    </tr>\n",
       "    <tr>\n",
       "      <th>8</th>\n",
       "      <td>06-03-19</td>\n",
       "      <td>TSLA</td>\n",
       "      <td>276.48</td>\n",
       "      <td>281.5058</td>\n",
       "      <td>274.39</td>\n",
       "      <td>276.24</td>\n",
       "      <td>10335485</td>\n",
       "    </tr>\n",
       "    <tr>\n",
       "      <th>9</th>\n",
       "      <td>07-03-19</td>\n",
       "      <td>TSLA</td>\n",
       "      <td>278.84</td>\n",
       "      <td>284.7000</td>\n",
       "      <td>274.25</td>\n",
       "      <td>276.59</td>\n",
       "      <td>9442483</td>\n",
       "    </tr>\n",
       "  </tbody>\n",
       "</table>\n",
       "</div>"
      ],
      "text/plain": [
       "       date symbol    open      high     low   close    volume\n",
       "0  01-03-19     FB  162.60  163.1320  161.69  162.28  11097770\n",
       "1  04-03-19     FB  163.90  167.5000  163.83  167.37  18894689\n",
       "2  05-03-19     FB  167.37  171.8800  166.55  171.26  28187890\n",
       "3  06-03-19     FB  172.90  173.5700  171.27  172.51  21531723\n",
       "4  07-03-19     FB  171.50  171.7400  167.61  169.13  18306504\n",
       "5  01-03-19   TSLA  306.94  307.1300  291.90  294.79  22911375\n",
       "6  04-03-19   TSLA  298.12  299.0000  282.78  285.36  17096818\n",
       "7  05-03-19   TSLA  282.00  284.0000  270.10  276.54  18764740\n",
       "8  06-03-19   TSLA  276.48  281.5058  274.39  276.24  10335485\n",
       "9  07-03-19   TSLA  278.84  284.7000  274.25  276.59   9442483"
      ]
     },
     "execution_count": 47,
     "metadata": {},
     "output_type": "execute_result"
    }
   ],
   "source": [
    "# doc file\n",
    "stocks2 = pd.read_csv('data//stocks2.csv')\n",
    "stocks2"
   ]
  },
  {
   "cell_type": "code",
   "execution_count": null,
   "metadata": {},
   "outputs": [],
   "source": [
    "# gop 2 stocks\n",
    "stocks = pd.concat([stocks1, stocks2], ignore_index = True)# dam bao chi so duoc dat lai\n",
    "stocks"
   ]
  },
  {
   "cell_type": "code",
   "execution_count": 52,
   "metadata": {},
   "outputs": [],
   "source": [
    "# tinh gt trug binh\n",
    "stocks['tinh_tong'] = stocks[['open', 'high', 'low', 'close']].mean(axis =1) #tinh theo hang(moi ngay)\n"
   ]
  },
  {
   "cell_type": "code",
   "execution_count": 53,
   "metadata": {},
   "outputs": [
    {
     "name": "stdout",
     "output_type": "stream",
     "text": [
      "       date symbol     open         high          low    close   volume  \\\n",
      "0  01-03-19   AMZN  1655.13  1674.260000  1651.000000  1671.73  4974877   \n",
      "1  04-03-19   AMZN  1685.00  1709.430000  1674.360000  1696.17  6167358   \n",
      "2  05-03-19   AMZN  1702.95  1707.800000  1689.010000  1692.43  3681522   \n",
      "3  06-03-19   AMZN  1695.97   943.511538   926.775385  1668.95  3996001   \n",
      "4  07-03-19   AMZN  1667.37  1669.750000  1620.510000  1625.95  4957017   \n",
      "\n",
      "     tinh_tong  \n",
      "0  1663.030000  \n",
      "1  1691.240000  \n",
      "2  1698.047500  \n",
      "3  1308.801731  \n",
      "4  1645.895000  \n"
     ]
    }
   ],
   "source": [
    "# hien thi 5 dong dau kq\n",
    "print(stocks.head(5))"
   ]
  },
  {
   "cell_type": "markdown",
   "metadata": {},
   "source": [
    "### 3.4\n"
   ]
  },
  {
   "cell_type": "code",
   "execution_count": 54,
   "metadata": {},
   "outputs": [],
   "source": [
    "# doc file\n",
    "companies = pd.read_csv('data//companies.csv')"
   ]
  },
  {
   "cell_type": "code",
   "execution_count": 55,
   "metadata": {},
   "outputs": [
    {
     "name": "stdout",
     "output_type": "stream",
     "text": [
      "   name  employees headquarters_city headquarters_state\n",
      "0  AMZN     613300           Seattle                 WA\n",
      "1  GOOG      98771     Mountain View                 CA\n",
      "2  AAPL     132000         Cupertino                 CA\n",
      "3    FB      48268        Menlo Park                 CA\n",
      "4  TSLA      48016         Palo Alto                 CA\n"
     ]
    }
   ],
   "source": [
    "# hien thi 5 dong dau\n",
    "print(companies.head(5))"
   ]
  },
  {
   "cell_type": "code",
   "execution_count": 56,
   "metadata": {},
   "outputs": [
    {
     "ename": "KeyError",
     "evalue": "'symbol'",
     "output_type": "error",
     "traceback": [
      "\u001b[1;31m---------------------------------------------------------------------------\u001b[0m",
      "\u001b[1;31mKeyError\u001b[0m                                  Traceback (most recent call last)",
      "\u001b[1;32m~\\AppData\\Local\\Temp\\ipykernel_20012\\177654504.py\u001b[0m in \u001b[0;36m?\u001b[1;34m()\u001b[0m\n\u001b[0;32m      1\u001b[0m \u001b[1;31m# ket hop stocks va companies\u001b[0m\u001b[1;33m\u001b[0m\u001b[1;33m\u001b[0m\u001b[0m\n\u001b[1;32m----> 2\u001b[1;33m \u001b[0mket_hop\u001b[0m \u001b[1;33m=\u001b[0m \u001b[0mpd\u001b[0m\u001b[1;33m.\u001b[0m\u001b[0mmerge\u001b[0m\u001b[1;33m(\u001b[0m\u001b[0mstocks\u001b[0m\u001b[1;33m,\u001b[0m \u001b[0mcompanies\u001b[0m\u001b[1;33m,\u001b[0m \u001b[0mon\u001b[0m \u001b[1;33m=\u001b[0m \u001b[1;34m'symbol'\u001b[0m\u001b[1;33m)\u001b[0m \u001b[1;31m# chi dong cot de ghep\u001b[0m\u001b[1;33m\u001b[0m\u001b[1;33m\u001b[0m\u001b[0m\n\u001b[0m",
      "\u001b[1;32mc:\\Users\\Hi\\anaconda3\\Lib\\site-packages\\pandas\\core\\reshape\\merge.py\u001b[0m in \u001b[0;36m?\u001b[1;34m(left, right, how, on, left_on, right_on, left_index, right_index, sort, suffixes, copy, indicator, validate)\u001b[0m\n\u001b[0;32m    166\u001b[0m             \u001b[0mvalidate\u001b[0m\u001b[1;33m=\u001b[0m\u001b[0mvalidate\u001b[0m\u001b[1;33m,\u001b[0m\u001b[1;33m\u001b[0m\u001b[1;33m\u001b[0m\u001b[0m\n\u001b[0;32m    167\u001b[0m             \u001b[0mcopy\u001b[0m\u001b[1;33m=\u001b[0m\u001b[0mcopy\u001b[0m\u001b[1;33m,\u001b[0m\u001b[1;33m\u001b[0m\u001b[1;33m\u001b[0m\u001b[0m\n\u001b[0;32m    168\u001b[0m         \u001b[1;33m)\u001b[0m\u001b[1;33m\u001b[0m\u001b[1;33m\u001b[0m\u001b[0m\n\u001b[0;32m    169\u001b[0m     \u001b[1;32melse\u001b[0m\u001b[1;33m:\u001b[0m\u001b[1;33m\u001b[0m\u001b[1;33m\u001b[0m\u001b[0m\n\u001b[1;32m--> 170\u001b[1;33m         op = _MergeOperation(\n\u001b[0m\u001b[0;32m    171\u001b[0m             \u001b[0mleft_df\u001b[0m\u001b[1;33m,\u001b[0m\u001b[1;33m\u001b[0m\u001b[1;33m\u001b[0m\u001b[0m\n\u001b[0;32m    172\u001b[0m             \u001b[0mright_df\u001b[0m\u001b[1;33m,\u001b[0m\u001b[1;33m\u001b[0m\u001b[1;33m\u001b[0m\u001b[0m\n\u001b[0;32m    173\u001b[0m             \u001b[0mhow\u001b[0m\u001b[1;33m=\u001b[0m\u001b[0mhow\u001b[0m\u001b[1;33m,\u001b[0m\u001b[1;33m\u001b[0m\u001b[1;33m\u001b[0m\u001b[0m\n",
      "\u001b[1;32mc:\\Users\\Hi\\anaconda3\\Lib\\site-packages\\pandas\\core\\reshape\\merge.py\u001b[0m in \u001b[0;36m?\u001b[1;34m(self, left, right, how, on, left_on, right_on, left_index, right_index, sort, suffixes, indicator, validate)\u001b[0m\n\u001b[0;32m    790\u001b[0m             \u001b[0mself\u001b[0m\u001b[1;33m.\u001b[0m\u001b[0mright_join_keys\u001b[0m\u001b[1;33m,\u001b[0m\u001b[1;33m\u001b[0m\u001b[1;33m\u001b[0m\u001b[0m\n\u001b[0;32m    791\u001b[0m             \u001b[0mself\u001b[0m\u001b[1;33m.\u001b[0m\u001b[0mjoin_names\u001b[0m\u001b[1;33m,\u001b[0m\u001b[1;33m\u001b[0m\u001b[1;33m\u001b[0m\u001b[0m\n\u001b[0;32m    792\u001b[0m             \u001b[0mleft_drop\u001b[0m\u001b[1;33m,\u001b[0m\u001b[1;33m\u001b[0m\u001b[1;33m\u001b[0m\u001b[0m\n\u001b[0;32m    793\u001b[0m             \u001b[0mright_drop\u001b[0m\u001b[1;33m,\u001b[0m\u001b[1;33m\u001b[0m\u001b[1;33m\u001b[0m\u001b[0m\n\u001b[1;32m--> 794\u001b[1;33m         \u001b[1;33m)\u001b[0m \u001b[1;33m=\u001b[0m \u001b[0mself\u001b[0m\u001b[1;33m.\u001b[0m\u001b[0m_get_merge_keys\u001b[0m\u001b[1;33m(\u001b[0m\u001b[1;33m)\u001b[0m\u001b[1;33m\u001b[0m\u001b[1;33m\u001b[0m\u001b[0m\n\u001b[0m\u001b[0;32m    795\u001b[0m \u001b[1;33m\u001b[0m\u001b[0m\n\u001b[0;32m    796\u001b[0m         \u001b[1;32mif\u001b[0m \u001b[0mleft_drop\u001b[0m\u001b[1;33m:\u001b[0m\u001b[1;33m\u001b[0m\u001b[1;33m\u001b[0m\u001b[0m\n\u001b[0;32m    797\u001b[0m             \u001b[0mself\u001b[0m\u001b[1;33m.\u001b[0m\u001b[0mleft\u001b[0m \u001b[1;33m=\u001b[0m \u001b[0mself\u001b[0m\u001b[1;33m.\u001b[0m\u001b[0mleft\u001b[0m\u001b[1;33m.\u001b[0m\u001b[0m_drop_labels_or_levels\u001b[0m\u001b[1;33m(\u001b[0m\u001b[0mleft_drop\u001b[0m\u001b[1;33m)\u001b[0m\u001b[1;33m\u001b[0m\u001b[1;33m\u001b[0m\u001b[0m\n",
      "\u001b[1;32mc:\\Users\\Hi\\anaconda3\\Lib\\site-packages\\pandas\\core\\reshape\\merge.py\u001b[0m in \u001b[0;36m?\u001b[1;34m(self)\u001b[0m\n\u001b[0;32m   1293\u001b[0m                         \u001b[1;31m# Then we're either Hashable or a wrong-length arraylike,\u001b[0m\u001b[1;33m\u001b[0m\u001b[1;33m\u001b[0m\u001b[0m\n\u001b[0;32m   1294\u001b[0m                         \u001b[1;31m#  the latter of which will raise\u001b[0m\u001b[1;33m\u001b[0m\u001b[1;33m\u001b[0m\u001b[0m\n\u001b[0;32m   1295\u001b[0m                         \u001b[0mrk\u001b[0m \u001b[1;33m=\u001b[0m \u001b[0mcast\u001b[0m\u001b[1;33m(\u001b[0m\u001b[0mHashable\u001b[0m\u001b[1;33m,\u001b[0m \u001b[0mrk\u001b[0m\u001b[1;33m)\u001b[0m\u001b[1;33m\u001b[0m\u001b[1;33m\u001b[0m\u001b[0m\n\u001b[0;32m   1296\u001b[0m                         \u001b[1;32mif\u001b[0m \u001b[0mrk\u001b[0m \u001b[1;32mis\u001b[0m \u001b[1;32mnot\u001b[0m \u001b[1;32mNone\u001b[0m\u001b[1;33m:\u001b[0m\u001b[1;33m\u001b[0m\u001b[1;33m\u001b[0m\u001b[0m\n\u001b[1;32m-> 1297\u001b[1;33m                             \u001b[0mright_keys\u001b[0m\u001b[1;33m.\u001b[0m\u001b[0mappend\u001b[0m\u001b[1;33m(\u001b[0m\u001b[0mright\u001b[0m\u001b[1;33m.\u001b[0m\u001b[0m_get_label_or_level_values\u001b[0m\u001b[1;33m(\u001b[0m\u001b[0mrk\u001b[0m\u001b[1;33m)\u001b[0m\u001b[1;33m)\u001b[0m\u001b[1;33m\u001b[0m\u001b[1;33m\u001b[0m\u001b[0m\n\u001b[0m\u001b[0;32m   1298\u001b[0m                         \u001b[1;32melse\u001b[0m\u001b[1;33m:\u001b[0m\u001b[1;33m\u001b[0m\u001b[1;33m\u001b[0m\u001b[0m\n\u001b[0;32m   1299\u001b[0m                             \u001b[1;31m# work-around for merge_asof(right_index=True)\u001b[0m\u001b[1;33m\u001b[0m\u001b[1;33m\u001b[0m\u001b[0m\n\u001b[0;32m   1300\u001b[0m                             \u001b[0mright_keys\u001b[0m\u001b[1;33m.\u001b[0m\u001b[0mappend\u001b[0m\u001b[1;33m(\u001b[0m\u001b[0mright\u001b[0m\u001b[1;33m.\u001b[0m\u001b[0mindex\u001b[0m\u001b[1;33m.\u001b[0m\u001b[0m_values\u001b[0m\u001b[1;33m)\u001b[0m\u001b[1;33m\u001b[0m\u001b[1;33m\u001b[0m\u001b[0m\n",
      "\u001b[1;32mc:\\Users\\Hi\\anaconda3\\Lib\\site-packages\\pandas\\core\\generic.py\u001b[0m in \u001b[0;36m?\u001b[1;34m(self, key, axis)\u001b[0m\n\u001b[0;32m   1907\u001b[0m             \u001b[0mvalues\u001b[0m \u001b[1;33m=\u001b[0m \u001b[0mself\u001b[0m\u001b[1;33m.\u001b[0m\u001b[0mxs\u001b[0m\u001b[1;33m(\u001b[0m\u001b[0mkey\u001b[0m\u001b[1;33m,\u001b[0m \u001b[0maxis\u001b[0m\u001b[1;33m=\u001b[0m\u001b[0mother_axes\u001b[0m\u001b[1;33m[\u001b[0m\u001b[1;36m0\u001b[0m\u001b[1;33m]\u001b[0m\u001b[1;33m)\u001b[0m\u001b[1;33m.\u001b[0m\u001b[0m_values\u001b[0m\u001b[1;33m\u001b[0m\u001b[1;33m\u001b[0m\u001b[0m\n\u001b[0;32m   1908\u001b[0m         \u001b[1;32melif\u001b[0m \u001b[0mself\u001b[0m\u001b[1;33m.\u001b[0m\u001b[0m_is_level_reference\u001b[0m\u001b[1;33m(\u001b[0m\u001b[0mkey\u001b[0m\u001b[1;33m,\u001b[0m \u001b[0maxis\u001b[0m\u001b[1;33m=\u001b[0m\u001b[0maxis\u001b[0m\u001b[1;33m)\u001b[0m\u001b[1;33m:\u001b[0m\u001b[1;33m\u001b[0m\u001b[1;33m\u001b[0m\u001b[0m\n\u001b[0;32m   1909\u001b[0m             \u001b[0mvalues\u001b[0m \u001b[1;33m=\u001b[0m \u001b[0mself\u001b[0m\u001b[1;33m.\u001b[0m\u001b[0maxes\u001b[0m\u001b[1;33m[\u001b[0m\u001b[0maxis\u001b[0m\u001b[1;33m]\u001b[0m\u001b[1;33m.\u001b[0m\u001b[0mget_level_values\u001b[0m\u001b[1;33m(\u001b[0m\u001b[0mkey\u001b[0m\u001b[1;33m)\u001b[0m\u001b[1;33m.\u001b[0m\u001b[0m_values\u001b[0m\u001b[1;33m\u001b[0m\u001b[1;33m\u001b[0m\u001b[0m\n\u001b[0;32m   1910\u001b[0m         \u001b[1;32melse\u001b[0m\u001b[1;33m:\u001b[0m\u001b[1;33m\u001b[0m\u001b[1;33m\u001b[0m\u001b[0m\n\u001b[1;32m-> 1911\u001b[1;33m             \u001b[1;32mraise\u001b[0m \u001b[0mKeyError\u001b[0m\u001b[1;33m(\u001b[0m\u001b[0mkey\u001b[0m\u001b[1;33m)\u001b[0m\u001b[1;33m\u001b[0m\u001b[1;33m\u001b[0m\u001b[0m\n\u001b[0m\u001b[0;32m   1912\u001b[0m \u001b[1;33m\u001b[0m\u001b[0m\n\u001b[0;32m   1913\u001b[0m         \u001b[1;31m# Check for duplicates\u001b[0m\u001b[1;33m\u001b[0m\u001b[1;33m\u001b[0m\u001b[0m\n\u001b[0;32m   1914\u001b[0m         \u001b[1;32mif\u001b[0m \u001b[0mvalues\u001b[0m\u001b[1;33m.\u001b[0m\u001b[0mndim\u001b[0m \u001b[1;33m>\u001b[0m \u001b[1;36m1\u001b[0m\u001b[1;33m:\u001b[0m\u001b[1;33m\u001b[0m\u001b[1;33m\u001b[0m\u001b[0m\n",
      "\u001b[1;31mKeyError\u001b[0m: 'symbol'"
     ]
    }
   ],
   "source": [
    "# ket hop stocks va companies\n",
    "ket_hop = pd.merge(stocks, companies, on = 'symbol') # chi dong cot de ghep"
   ]
  }
 ],
 "metadata": {
  "kernelspec": {
   "display_name": "base",
   "language": "python",
   "name": "python3"
  },
  "language_info": {
   "codemirror_mode": {
    "name": "ipython",
    "version": 3
   },
   "file_extension": ".py",
   "mimetype": "text/x-python",
   "name": "python",
   "nbconvert_exporter": "python",
   "pygments_lexer": "ipython3",
   "version": "3.12.4"
  }
 },
 "nbformat": 4,
 "nbformat_minor": 2
}
