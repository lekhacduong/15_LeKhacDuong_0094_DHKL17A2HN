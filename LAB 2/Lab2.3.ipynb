{
 "cells": [
  {
   "cell_type": "markdown",
   "metadata": {},
   "source": [
    "### Doc du lieu"
   ]
  },
  {
   "cell_type": "code",
   "execution_count": 2,
   "metadata": {},
   "outputs": [
    {
     "name": "stderr",
     "output_type": "stream",
     "text": [
      "<>:6: SyntaxWarning: invalid escape sequence '\\P'\n",
      "<>:6: SyntaxWarning: invalid escape sequence '\\P'\n",
      "C:\\Users\\Hi\\AppData\\Local\\Temp\\ipykernel_11892\\1830841562.py:6: SyntaxWarning: invalid escape sequence '\\P'\n",
      "  with open('D:\\PY NÂNG CAO\\BT LAB\\LAB 2\\data\\shifts.txt', 'r') as f:\n"
     ]
    }
   ],
   "source": [
    "with open('data//efficiency.txt', 'r') as f:\n",
    "    efficiency = []\n",
    "    for i in f:\n",
    "        efficiency.append(float(i.strip()))\n",
    "\n",
    "with open('D:\\PY NÂNG CAO\\BT LAB\\LAB 2\\data\\shifts.txt', 'r') as f:\n",
    "    shifts = []\n",
    "    for j in f:\n",
    "        shifts.append(j.strip())\n",
    "        \n",
    "\n"
   ]
  },
  {
   "cell_type": "markdown",
   "metadata": {},
   "source": [
    "### tao array"
   ]
  },
  {
   "cell_type": "markdown",
   "metadata": {},
   "source": []
  },
  {
   "cell_type": "code",
   "execution_count": 3,
   "metadata": {},
   "outputs": [
    {
     "name": "stdout",
     "output_type": "stream",
     "text": [
      "<U9\n",
      "float64\n"
     ]
    }
   ],
   "source": [
    "import numpy as np\n",
    "\n",
    "#2:\n",
    "np_shifts = np.array(shifts)\n",
    "print(np_shifts.dtype)\n",
    "\n",
    "#3:\n",
    "np_efficiency = np.array(efficiency)\n",
    "print(np_efficiency.dtype)"
   ]
  },
  {
   "cell_type": "markdown",
   "metadata": {},
   "source": [
    "### tinh toan\n"
   ]
  },
  {
   "cell_type": "code",
   "execution_count": 4,
   "metadata": {},
   "outputs": [
    {
     "name": "stdout",
     "output_type": "stream",
     "text": [
      "Hieu suat trung binh cua nhan vien lam ca sang la: 96.8529411764706\n"
     ]
    }
   ],
   "source": [
    "# 4:\n",
    "# tao mang boolean\n",
    "morning = np_shifts == 'Morning'\n",
    "\n",
    "hieu_suat_ca_sang = np.mean(np_efficiency[morning])\n",
    "print(f'Hieu suat trung binh cua nhan vien lam ca sang la: {hieu_suat_ca_sang}')"
   ]
  },
  {
   "cell_type": "code",
   "execution_count": 5,
   "metadata": {},
   "outputs": [
    {
     "name": "stdout",
     "output_type": "stream",
     "text": [
      "Hieu suat trung binh cua nhan vien lam ca con lai la: 98.93939393939394\n"
     ]
    }
   ],
   "source": [
    "# 5:\n",
    "# tao mang boolean\n",
    "con_lai = np_shifts != 'Morning'\n",
    "hieu_suat_con_lai = np.mean(np_efficiency[con_lai])\n",
    "print(f'Hieu suat trung binh cua nhan vien lam ca con lai la: {hieu_suat_con_lai}')"
   ]
  },
  {
   "cell_type": "code",
   "execution_count": null,
   "metadata": {},
   "outputs": [],
   "source": []
  }
 ],
 "metadata": {
  "kernelspec": {
   "display_name": "base",
   "language": "python",
   "name": "python3"
  },
  "language_info": {
   "codemirror_mode": {
    "name": "ipython",
    "version": 3
   },
   "file_extension": ".py",
   "mimetype": "text/x-python",
   "name": "python",
   "nbconvert_exporter": "python",
   "pygments_lexer": "ipython3",
   "version": "3.12.4"
  }
 },
 "nbformat": 4,
 "nbformat_minor": 2
}
