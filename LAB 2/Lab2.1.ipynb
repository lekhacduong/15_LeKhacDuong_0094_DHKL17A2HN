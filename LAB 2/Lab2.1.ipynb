{
 "cells": [
  {
   "cell_type": "code",
   "execution_count": 8,
   "metadata": {},
   "outputs": [],
   "source": [
    "import numpy as np"
   ]
  },
  {
   "cell_type": "markdown",
   "metadata": {},
   "source": [
    "### 1. Tao du lieu mo phong nhiet do "
   ]
  },
  {
   "cell_type": "code",
   "execution_count": 9,
   "metadata": {},
   "outputs": [],
   "source": [
    "data_nhiet_do = np.random.uniform(1, 40, 30)  # random 30 so tu 1-40\n",
    "data_nhiet_do = np.round(data_nhiet_do, 2)    # lam tron du lieu den 2 chu so sau dau phay"
   ]
  },
  {
   "cell_type": "code",
   "execution_count": 10,
   "metadata": {},
   "outputs": [
    {
     "name": "stdout",
     "output_type": "stream",
     "text": [
      "Nhiet do hang ngay trong 1 thang la: [ 2.41 26.97 25.9  21.33  6.03  7.75 10.94 31.91 16.26 19.45  3.61  4.06\n",
      " 33.4  33.92 19.87 12.17  6.34 22.28 24.87 25.5  21.37 31.33 28.74 25.28\n",
      " 33.73 37.84 17.11  3.77 24.2  27.91]\n",
      "Nhiet do trung binh trong thang: 20.208333333333336\n"
     ]
    }
   ],
   "source": [
    "# tinh nhiet do trung binh trong thang\n",
    "sum = 0\n",
    "for i in data_nhiet_do:\n",
    "    sum += i\n",
    "    nhiet_do_tb = sum / len(data_nhiet_do)\n",
    "\n",
    "print(f\"Nhiet do hang ngay trong 1 thang la: {data_nhiet_do}\")\n",
    "print(f\"Nhiet do trung binh trong thang: {nhiet_do_tb}\")"
   ]
  },
  {
   "cell_type": "markdown",
   "metadata": {},
   "source": [
    "### 2. Phan tich xu huong nhiet do"
   ]
  },
  {
   "cell_type": "code",
   "execution_count": 11,
   "metadata": {},
   "outputs": [],
   "source": [
    "# ngay co nhiet do cao nhat:\n",
    "nd_max = np.max(data_nhiet_do)\n",
    "nd_min = np.min(data_nhiet_do)\n",
    "\n",
    "# ngay do la ngay thu may trong thang: \n",
    "ngay_cao_nhat = np.argmax(data_nhiet_do) + 1\n",
    "ngay_thap_nhat = np.argmin(data_nhiet_do) + 1\n",
    "\n",
    "# thong ke su chenh lech nhiet do giua cac ngay va su bien doi nhiet do cao nhat:\n",
    "bien_doi_nhiet_do = np.diff(data_nhiet_do)\n",
    "ngay_bien_doi_cao_nhat = np.argmax(np.abs(bien_doi_nhiet_do)) + 1"
   ]
  },
  {
   "cell_type": "code",
   "execution_count": 12,
   "metadata": {},
   "outputs": [
    {
     "name": "stdout",
     "output_type": "stream",
     "text": [
      "Nhiet do cao nhat la: 37.84\n",
      "Ngay co nhiet do cao nhat la: 26\n",
      "Nhiet do thap nhat la: 2.41\n",
      "Ngay co nhiet do thap nhat la: 1\n",
      "Ngay bien doi nhiet do cao nhat la: 12\n"
     ]
    }
   ],
   "source": [
    "print(f'Nhiet do cao nhat la: {nd_max}')\n",
    "print(f'Ngay co nhiet do cao nhat la: {ngay_cao_nhat}')\n",
    "print(f'Nhiet do thap nhat la: {nd_min}')\n",
    "print(f'Ngay co nhiet do thap nhat la: {ngay_thap_nhat}')\n",
    "print(f'Ngay bien doi nhiet do cao nhat la: {ngay_bien_doi_cao_nhat}')"
   ]
  },
  {
   "cell_type": "markdown",
   "metadata": {},
   "source": [
    "### 3. Ap dung Fancy Indexing:\n"
   ]
  },
  {
   "cell_type": "code",
   "execution_count": 13,
   "metadata": {},
   "outputs": [],
   "source": [
    "# cac ngay co nhiet do cao hon 20 do\n",
    "tren_20 = np.where(data_nhiet_do > 20)[0]\n",
    "\n",
    "# lay nhiet do ngay 5 10 15 20 25\n",
    "lay_ngay = np.array([5, 10, 15, 20, 25])\n",
    "lay_nhiet_do = data_nhiet_do[lay_ngay]\n",
    "\n",
    "# nhiet do cac ngay tren trung binh\n",
    "tb = np.mean(data_nhiet_do)\n",
    "tren_tb = np.where(data_nhiet_do > tb)[0]\n",
    "\n",
    "# nhiet do cac ngay chan le trong thang:\n",
    "chan = np.arange(1, len(data_nhiet_do), 2)\n",
    "le = np.arange(0, len(data_nhiet_do), 2)\n",
    "ngay_chan = data_nhiet_do[chan]\n",
    "ngay_le = data_nhiet_do[le]\n",
    "\n"
   ]
  },
  {
   "cell_type": "code",
   "execution_count": 14,
   "metadata": {},
   "outputs": [
    {
     "name": "stdout",
     "output_type": "stream",
     "text": [
      "Ngay co nhiet do cao hon 20 do la: [ 1  2  3  7 12 13 17 18 19 20 21 22 23 24 25 28 29]\n",
      "Nhiet do cac ngay 5 10 15 20 25 la: [ 7.75  3.61 12.17 21.37 37.84]\n",
      "Nhiet do cac ngay tren trung binh la: [ 1  2  3  7 12 13 17 18 19 20 21 22 23 24 25 28 29]\n",
      "Nhiet do cac ngay chan la: [26.97 21.33  7.75 31.91 19.45  4.06 33.92 12.17 22.28 25.5  31.33 25.28\n",
      " 37.84  3.77 27.91]\n",
      "Nhiet do cac ngay le la: [ 2.41 25.9   6.03 10.94 16.26  3.61 33.4  19.87  6.34 24.87 21.37 28.74\n",
      " 33.73 17.11 24.2 ]\n"
     ]
    }
   ],
   "source": [
    "print(f'Ngay co nhiet do cao hon 20 do la: {tren_20}')\n",
    "print(f'Nhiet do cac ngay 5 10 15 20 25 la: {lay_nhiet_do}')\n",
    "print(f'Nhiet do cac ngay tren trung binh la: {tren_tb}')\n",
    "print(f'Nhiet do cac ngay chan la: {ngay_chan}')\n",
    "print(f'Nhiet do cac ngay le la: {ngay_le}')"
   ]
  }
 ],
 "metadata": {
  "kernelspec": {
   "display_name": "Python 3",
   "language": "python",
   "name": "python3"
  },
  "language_info": {
   "codemirror_mode": {
    "name": "ipython",
    "version": 3
   },
   "file_extension": ".py",
   "mimetype": "text/x-python",
   "name": "python",
   "nbconvert_exporter": "python",
   "pygments_lexer": "ipython3",
   "version": "3.11.5"
  }
 },
 "nbformat": 4,
 "nbformat_minor": 2
}
