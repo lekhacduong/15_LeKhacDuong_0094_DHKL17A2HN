{
 "cells": [
  {
   "cell_type": "code",
   "execution_count": 2,
   "metadata": {},
   "outputs": [],
   "source": [
    "import numpy as np"
   ]
  },
  {
   "cell_type": "markdown",
   "metadata": {},
   "source": [
    "### Phan tich du lieu diem so sinh vien su dung numpy"
   ]
  },
  {
   "cell_type": "code",
   "execution_count": 12,
   "metadata": {},
   "outputs": [
    {
     "data": {
      "text/plain": [
       "array([[3.04, 3.39, 6.7 ],\n",
       "       [5.8 , 6.41, 6.62],\n",
       "       [2.59, 3.57, 9.16],\n",
       "       [3.81, 8.78, 9.24],\n",
       "       [8.91, 9.64, 6.39],\n",
       "       [3.23, 4.72, 6.17],\n",
       "       [2.35, 3.29, 6.89],\n",
       "       [2.48, 3.81, 4.84],\n",
       "       [3.23, 2.61, 4.52],\n",
       "       [7.02, 9.01, 9.15],\n",
       "       [2.29, 4.48, 5.51],\n",
       "       [3.51, 7.19, 5.13],\n",
       "       [6.74, 7.78, 6.19],\n",
       "       [9.86, 4.64, 3.33],\n",
       "       [8.04, 5.12, 4.77],\n",
       "       [2.74, 8.88, 5.8 ],\n",
       "       [3.04, 6.88, 3.91],\n",
       "       [5.87, 4.41, 8.84],\n",
       "       [8.46, 2.63, 4.91],\n",
       "       [3.74, 6.71, 3.44],\n",
       "       [5.67, 8.05, 6.03],\n",
       "       [8.12, 2.46, 3.87],\n",
       "       [9.4 , 5.31, 5.13],\n",
       "       [3.91, 5.09, 8.82],\n",
       "       [4.26, 5.78, 8.14],\n",
       "       [4.41, 2.66, 5.4 ],\n",
       "       [3.23, 8.3 , 8.64],\n",
       "       [9.25, 8.29, 9.1 ],\n",
       "       [6.08, 2.67, 6.39],\n",
       "       [3.85, 7.71, 5.75]])"
      ]
     },
     "execution_count": 12,
     "metadata": {},
     "output_type": "execute_result"
    }
   ],
   "source": [
    "with open('data//diem_hoc_phan.csv', 'r', encoding='utf-8') as f:\n",
    "    data = f.readlines()\n",
    "    list_data = []\n",
    "    for line in data[1:]:\n",
    "        hoc_phan = line.strip().split(',')[2:]\n",
    "        list_data.append(hoc_phan)\n",
    "\n",
    "array = np.array(list_data, dtype=float)\n",
    "array"
   ]
  },
  {
   "cell_type": "code",
   "execution_count": 4,
   "metadata": {},
   "outputs": [],
   "source": [
    "diem_hp1 = array[:, 0]\n",
    "diem_hp2 = array[:, 1]\n",
    "diem_hp3 = array[:, 2]"
   ]
  },
  {
   "cell_type": "code",
   "execution_count": 5,
   "metadata": {},
   "outputs": [],
   "source": [
    "def qui_doi_hoc_phan(diem):\n",
    "    if 8.5 <= diem <= 10:\n",
    "        return 'A'\n",
    "    elif 8.0 <= diem <= 8.4:\n",
    "        return 'B+'\n",
    "    elif 7.0 <= diem < 8:\n",
    "        return 'B'\n",
    "    elif 6.5 <= diem < 7:\n",
    "        return 'C+'\n",
    "    elif 5.5 <= diem < 6:\n",
    "        return 'C'\n",
    "    elif 5.0 <= diem < 5.5:\n",
    "        return 'D+'\n",
    "    elif 4.0 <= diem < 5:\n",
    "        return 'D'\n",
    "    else:\n",
    "        return 'F'\n",
    "\n",
    "data_qui_doi1 = np.array([qui_doi_hoc_phan(x) for x in diem_hp1])\n",
    "data_qui_doi2 = np.array([qui_doi_hoc_phan(x) for x in diem_hp2])\n",
    "data_qui_doi3 = np.array([qui_doi_hoc_phan(x) for x in diem_hp3])"
   ]
  },
  {
   "cell_type": "markdown",
   "metadata": {},
   "source": [
    "### 4:\n"
   ]
  },
  {
   "cell_type": "code",
   "execution_count": 6,
   "metadata": {},
   "outputs": [],
   "source": [
    "# tinh tong:\n",
    "tong_1 = np.sum(diem_hp1)\n",
    "tong_2 = np.sum(diem_hp2)\n",
    "tong_3 = np.sum(diem_hp3)"
   ]
  },
  {
   "cell_type": "code",
   "execution_count": 7,
   "metadata": {},
   "outputs": [],
   "source": [
    "# tinh trung binh:\n",
    "tb_1 = np.mean(diem_hp1)\n",
    "tb_2 = np.mean(diem_hp2)\n",
    "tb_3 = np.mean(diem_hp3)"
   ]
  },
  {
   "cell_type": "code",
   "execution_count": 8,
   "metadata": {},
   "outputs": [],
   "source": [
    "# do lech chuan:\n",
    "dlc_1 = np.std(diem_hp1)\n",
    "dlc_2 = np.std(diem_hp2)\n",
    "dlc_3 = np.std(diem_hp3)"
   ]
  },
  {
   "cell_type": "code",
   "execution_count": 9,
   "metadata": {},
   "outputs": [
    {
     "name": "stdout",
     "output_type": "stream",
     "text": [
      "HP1: Tong :154.92999999999998, Tb :5.1643333333333326, Dlc :2.4078519934211533\n",
      "HP2: Tong :170.27, Tb :5.675666666666667, Dlc :2.2494765070023637\n",
      "HP3: Tong :188.78, Tb :6.292666666666666, Dlc :1.8082292135923723\n"
     ]
    }
   ],
   "source": [
    "print(f'HP1: Tong :{tong_1}, Tb :{tb_1}, Dlc :{dlc_1}')\n",
    "print(f'HP2: Tong :{tong_2}, Tb :{tb_2}, Dlc :{dlc_2}')\n",
    "print(f'HP3: Tong :{tong_3}, Tb :{tb_3}, Dlc :{dlc_3}')"
   ]
  },
  {
   "cell_type": "markdown",
   "metadata": {},
   "source": [
    "### 5:"
   ]
  },
  {
   "cell_type": "code",
   "execution_count": 10,
   "metadata": {},
   "outputs": [],
   "source": [
    "# noi mang:\n",
    "tong_diem = np.concatenate((diem_hp1, diem_hp2, diem_hp3))\n",
    "tong_diem_qui_doi = np.array([qui_doi_hoc_phan(x) for x in tong_diem])\n",
    "\n",
    "tong_A = np.sum(tong_diem_qui_doi == 'A')\n",
    "tong_B = np.sum(tong_diem_qui_doi == 'B')\n",
    "tong_Bp = np.sum(tong_diem_qui_doi == 'B+') \n",
    "tong_C = np.sum(tong_diem_qui_doi == 'C')\n",
    "tong_Cp = np.sum(tong_diem_qui_doi == 'C+')\n",
    "tong_D = np.sum(tong_diem_qui_doi == 'D')\n",
    "tong_Dp = np.sum(tong_diem_qui_doi == 'D+')\n",
    "tong_F = np.sum(tong_diem_qui_doi == 'F')"
   ]
  },
  {
   "cell_type": "code",
   "execution_count": 11,
   "metadata": {},
   "outputs": [
    {
     "name": "stdout",
     "output_type": "stream",
     "text": [
      "Tong diem A la:  15\n",
      "Tong diem B la:  4\n",
      "Tong diem B+ la:  6\n",
      "Tong diem C la:  7\n",
      "Tong diem C+ la:  6\n",
      "Tong diem D la:  10\n",
      "Tong diem D+ la:  6\n",
      "Tong diem F la:  36\n"
     ]
    }
   ],
   "source": [
    "print('Tong diem A la: ', tong_A)\n",
    "print('Tong diem B la: ', tong_B)\n",
    "print('Tong diem B+ la: ', tong_Bp)\n",
    "print('Tong diem C la: ', tong_C)\n",
    "print('Tong diem C+ la: ', tong_Cp)\n",
    "print('Tong diem D la: ', tong_D)\n",
    "print('Tong diem D+ la: ', tong_Dp)\n",
    "print('Tong diem F la: ', tong_F)"
   ]
  }
 ],
 "metadata": {
  "kernelspec": {
   "display_name": "base",
   "language": "python",
   "name": "python3"
  },
  "language_info": {
   "codemirror_mode": {
    "name": "ipython",
    "version": 3
   },
   "file_extension": ".py",
   "mimetype": "text/x-python",
   "name": "python",
   "nbconvert_exporter": "python",
   "pygments_lexer": "ipython3",
   "version": "3.12.4"
  }
 },
 "nbformat": 4,
 "nbformat_minor": 2
}
